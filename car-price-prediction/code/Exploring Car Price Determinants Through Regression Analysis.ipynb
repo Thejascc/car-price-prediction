{
 "cells": [
  {
   "cell_type": "code",
   "execution_count": 2,
   "id": "7e923f21",
   "metadata": {},
   "outputs": [],
   "source": [
    "import numpy as np\n",
    "import pandas as pd\n",
    "import seaborn as sns\n",
    "import matplotlib.pyplot as plt\n",
    "from sklearn.preprocessing import LabelEncoder\n",
    "from sklearn.model_selection import train_test_split,GridSearchCV\n",
    "from sklearn.linear_model import LinearRegression\n",
    "from sklearn.tree import DecisionTreeRegressor\n",
    "from sklearn.ensemble import RandomForestRegressor, GradientBoostingRegressor\n",
    "from sklearn.svm import SVR\n",
    "from sklearn.metrics import mean_squared_error, mean_absolute_error, r2_score"
   ]
  },
  {
   "cell_type": "markdown",
   "id": "523872c8",
   "metadata": {},
   "source": [
    "# Loading The DataSet\n"
   ]
  },
  {
   "cell_type": "code",
   "execution_count": 3,
   "id": "198dccaa",
   "metadata": {},
   "outputs": [],
   "source": [
    "df = pd.read_csv(\"D:\\Data\\CarPrice_Assignment.csv\")"
   ]
  },
  {
   "cell_type": "code",
   "execution_count": 4,
   "id": "c00a10fe",
   "metadata": {},
   "outputs": [
    {
     "data": {
      "text/html": [
       "<div>\n",
       "<style scoped>\n",
       "    .dataframe tbody tr th:only-of-type {\n",
       "        vertical-align: middle;\n",
       "    }\n",
       "\n",
       "    .dataframe tbody tr th {\n",
       "        vertical-align: top;\n",
       "    }\n",
       "\n",
       "    .dataframe thead th {\n",
       "        text-align: right;\n",
       "    }\n",
       "</style>\n",
       "<table border=\"1\" class=\"dataframe\">\n",
       "  <thead>\n",
       "    <tr style=\"text-align: right;\">\n",
       "      <th></th>\n",
       "      <th>car_ID</th>\n",
       "      <th>symboling</th>\n",
       "      <th>CarName</th>\n",
       "      <th>fueltype</th>\n",
       "      <th>aspiration</th>\n",
       "      <th>doornumber</th>\n",
       "      <th>carbody</th>\n",
       "      <th>drivewheel</th>\n",
       "      <th>enginelocation</th>\n",
       "      <th>wheelbase</th>\n",
       "      <th>...</th>\n",
       "      <th>enginesize</th>\n",
       "      <th>fuelsystem</th>\n",
       "      <th>boreratio</th>\n",
       "      <th>stroke</th>\n",
       "      <th>compressionratio</th>\n",
       "      <th>horsepower</th>\n",
       "      <th>peakrpm</th>\n",
       "      <th>citympg</th>\n",
       "      <th>highwaympg</th>\n",
       "      <th>price</th>\n",
       "    </tr>\n",
       "  </thead>\n",
       "  <tbody>\n",
       "    <tr>\n",
       "      <th>0</th>\n",
       "      <td>1</td>\n",
       "      <td>3</td>\n",
       "      <td>alfa-romero giulia</td>\n",
       "      <td>gas</td>\n",
       "      <td>std</td>\n",
       "      <td>two</td>\n",
       "      <td>convertible</td>\n",
       "      <td>rwd</td>\n",
       "      <td>front</td>\n",
       "      <td>88.6</td>\n",
       "      <td>...</td>\n",
       "      <td>130</td>\n",
       "      <td>mpfi</td>\n",
       "      <td>3.47</td>\n",
       "      <td>2.68</td>\n",
       "      <td>9.0</td>\n",
       "      <td>111</td>\n",
       "      <td>5000</td>\n",
       "      <td>21</td>\n",
       "      <td>27</td>\n",
       "      <td>13495.0</td>\n",
       "    </tr>\n",
       "    <tr>\n",
       "      <th>1</th>\n",
       "      <td>2</td>\n",
       "      <td>3</td>\n",
       "      <td>alfa-romero stelvio</td>\n",
       "      <td>gas</td>\n",
       "      <td>std</td>\n",
       "      <td>two</td>\n",
       "      <td>convertible</td>\n",
       "      <td>rwd</td>\n",
       "      <td>front</td>\n",
       "      <td>88.6</td>\n",
       "      <td>...</td>\n",
       "      <td>130</td>\n",
       "      <td>mpfi</td>\n",
       "      <td>3.47</td>\n",
       "      <td>2.68</td>\n",
       "      <td>9.0</td>\n",
       "      <td>111</td>\n",
       "      <td>5000</td>\n",
       "      <td>21</td>\n",
       "      <td>27</td>\n",
       "      <td>16500.0</td>\n",
       "    </tr>\n",
       "    <tr>\n",
       "      <th>2</th>\n",
       "      <td>3</td>\n",
       "      <td>1</td>\n",
       "      <td>alfa-romero Quadrifoglio</td>\n",
       "      <td>gas</td>\n",
       "      <td>std</td>\n",
       "      <td>two</td>\n",
       "      <td>hatchback</td>\n",
       "      <td>rwd</td>\n",
       "      <td>front</td>\n",
       "      <td>94.5</td>\n",
       "      <td>...</td>\n",
       "      <td>152</td>\n",
       "      <td>mpfi</td>\n",
       "      <td>2.68</td>\n",
       "      <td>3.47</td>\n",
       "      <td>9.0</td>\n",
       "      <td>154</td>\n",
       "      <td>5000</td>\n",
       "      <td>19</td>\n",
       "      <td>26</td>\n",
       "      <td>16500.0</td>\n",
       "    </tr>\n",
       "    <tr>\n",
       "      <th>3</th>\n",
       "      <td>4</td>\n",
       "      <td>2</td>\n",
       "      <td>audi 100 ls</td>\n",
       "      <td>gas</td>\n",
       "      <td>std</td>\n",
       "      <td>four</td>\n",
       "      <td>sedan</td>\n",
       "      <td>fwd</td>\n",
       "      <td>front</td>\n",
       "      <td>99.8</td>\n",
       "      <td>...</td>\n",
       "      <td>109</td>\n",
       "      <td>mpfi</td>\n",
       "      <td>3.19</td>\n",
       "      <td>3.40</td>\n",
       "      <td>10.0</td>\n",
       "      <td>102</td>\n",
       "      <td>5500</td>\n",
       "      <td>24</td>\n",
       "      <td>30</td>\n",
       "      <td>13950.0</td>\n",
       "    </tr>\n",
       "    <tr>\n",
       "      <th>4</th>\n",
       "      <td>5</td>\n",
       "      <td>2</td>\n",
       "      <td>audi 100ls</td>\n",
       "      <td>gas</td>\n",
       "      <td>std</td>\n",
       "      <td>four</td>\n",
       "      <td>sedan</td>\n",
       "      <td>4wd</td>\n",
       "      <td>front</td>\n",
       "      <td>99.4</td>\n",
       "      <td>...</td>\n",
       "      <td>136</td>\n",
       "      <td>mpfi</td>\n",
       "      <td>3.19</td>\n",
       "      <td>3.40</td>\n",
       "      <td>8.0</td>\n",
       "      <td>115</td>\n",
       "      <td>5500</td>\n",
       "      <td>18</td>\n",
       "      <td>22</td>\n",
       "      <td>17450.0</td>\n",
       "    </tr>\n",
       "  </tbody>\n",
       "</table>\n",
       "<p>5 rows × 26 columns</p>\n",
       "</div>"
      ],
      "text/plain": [
       "   car_ID  symboling                   CarName fueltype aspiration doornumber  \\\n",
       "0       1          3        alfa-romero giulia      gas        std        two   \n",
       "1       2          3       alfa-romero stelvio      gas        std        two   \n",
       "2       3          1  alfa-romero Quadrifoglio      gas        std        two   \n",
       "3       4          2               audi 100 ls      gas        std       four   \n",
       "4       5          2                audi 100ls      gas        std       four   \n",
       "\n",
       "       carbody drivewheel enginelocation  wheelbase  ...  enginesize  \\\n",
       "0  convertible        rwd          front       88.6  ...         130   \n",
       "1  convertible        rwd          front       88.6  ...         130   \n",
       "2    hatchback        rwd          front       94.5  ...         152   \n",
       "3        sedan        fwd          front       99.8  ...         109   \n",
       "4        sedan        4wd          front       99.4  ...         136   \n",
       "\n",
       "   fuelsystem  boreratio  stroke compressionratio horsepower  peakrpm citympg  \\\n",
       "0        mpfi       3.47    2.68              9.0        111     5000      21   \n",
       "1        mpfi       3.47    2.68              9.0        111     5000      21   \n",
       "2        mpfi       2.68    3.47              9.0        154     5000      19   \n",
       "3        mpfi       3.19    3.40             10.0        102     5500      24   \n",
       "4        mpfi       3.19    3.40              8.0        115     5500      18   \n",
       "\n",
       "   highwaympg    price  \n",
       "0          27  13495.0  \n",
       "1          27  16500.0  \n",
       "2          26  16500.0  \n",
       "3          30  13950.0  \n",
       "4          22  17450.0  \n",
       "\n",
       "[5 rows x 26 columns]"
      ]
     },
     "execution_count": 4,
     "metadata": {},
     "output_type": "execute_result"
    }
   ],
   "source": [
    "df.head()"
   ]
  },
  {
   "cell_type": "code",
   "execution_count": 5,
   "id": "92693df6",
   "metadata": {},
   "outputs": [
    {
     "data": {
      "text/html": [
       "<div>\n",
       "<style scoped>\n",
       "    .dataframe tbody tr th:only-of-type {\n",
       "        vertical-align: middle;\n",
       "    }\n",
       "\n",
       "    .dataframe tbody tr th {\n",
       "        vertical-align: top;\n",
       "    }\n",
       "\n",
       "    .dataframe thead th {\n",
       "        text-align: right;\n",
       "    }\n",
       "</style>\n",
       "<table border=\"1\" class=\"dataframe\">\n",
       "  <thead>\n",
       "    <tr style=\"text-align: right;\">\n",
       "      <th></th>\n",
       "      <th>car_ID</th>\n",
       "      <th>symboling</th>\n",
       "      <th>CarName</th>\n",
       "      <th>fueltype</th>\n",
       "      <th>aspiration</th>\n",
       "      <th>doornumber</th>\n",
       "      <th>carbody</th>\n",
       "      <th>drivewheel</th>\n",
       "      <th>enginelocation</th>\n",
       "      <th>wheelbase</th>\n",
       "      <th>...</th>\n",
       "      <th>enginesize</th>\n",
       "      <th>fuelsystem</th>\n",
       "      <th>boreratio</th>\n",
       "      <th>stroke</th>\n",
       "      <th>compressionratio</th>\n",
       "      <th>horsepower</th>\n",
       "      <th>peakrpm</th>\n",
       "      <th>citympg</th>\n",
       "      <th>highwaympg</th>\n",
       "      <th>price</th>\n",
       "    </tr>\n",
       "  </thead>\n",
       "  <tbody>\n",
       "    <tr>\n",
       "      <th>200</th>\n",
       "      <td>201</td>\n",
       "      <td>-1</td>\n",
       "      <td>volvo 145e (sw)</td>\n",
       "      <td>gas</td>\n",
       "      <td>std</td>\n",
       "      <td>four</td>\n",
       "      <td>sedan</td>\n",
       "      <td>rwd</td>\n",
       "      <td>front</td>\n",
       "      <td>109.1</td>\n",
       "      <td>...</td>\n",
       "      <td>141</td>\n",
       "      <td>mpfi</td>\n",
       "      <td>3.78</td>\n",
       "      <td>3.15</td>\n",
       "      <td>9.5</td>\n",
       "      <td>114</td>\n",
       "      <td>5400</td>\n",
       "      <td>23</td>\n",
       "      <td>28</td>\n",
       "      <td>16845.0</td>\n",
       "    </tr>\n",
       "    <tr>\n",
       "      <th>201</th>\n",
       "      <td>202</td>\n",
       "      <td>-1</td>\n",
       "      <td>volvo 144ea</td>\n",
       "      <td>gas</td>\n",
       "      <td>turbo</td>\n",
       "      <td>four</td>\n",
       "      <td>sedan</td>\n",
       "      <td>rwd</td>\n",
       "      <td>front</td>\n",
       "      <td>109.1</td>\n",
       "      <td>...</td>\n",
       "      <td>141</td>\n",
       "      <td>mpfi</td>\n",
       "      <td>3.78</td>\n",
       "      <td>3.15</td>\n",
       "      <td>8.7</td>\n",
       "      <td>160</td>\n",
       "      <td>5300</td>\n",
       "      <td>19</td>\n",
       "      <td>25</td>\n",
       "      <td>19045.0</td>\n",
       "    </tr>\n",
       "    <tr>\n",
       "      <th>202</th>\n",
       "      <td>203</td>\n",
       "      <td>-1</td>\n",
       "      <td>volvo 244dl</td>\n",
       "      <td>gas</td>\n",
       "      <td>std</td>\n",
       "      <td>four</td>\n",
       "      <td>sedan</td>\n",
       "      <td>rwd</td>\n",
       "      <td>front</td>\n",
       "      <td>109.1</td>\n",
       "      <td>...</td>\n",
       "      <td>173</td>\n",
       "      <td>mpfi</td>\n",
       "      <td>3.58</td>\n",
       "      <td>2.87</td>\n",
       "      <td>8.8</td>\n",
       "      <td>134</td>\n",
       "      <td>5500</td>\n",
       "      <td>18</td>\n",
       "      <td>23</td>\n",
       "      <td>21485.0</td>\n",
       "    </tr>\n",
       "    <tr>\n",
       "      <th>203</th>\n",
       "      <td>204</td>\n",
       "      <td>-1</td>\n",
       "      <td>volvo 246</td>\n",
       "      <td>diesel</td>\n",
       "      <td>turbo</td>\n",
       "      <td>four</td>\n",
       "      <td>sedan</td>\n",
       "      <td>rwd</td>\n",
       "      <td>front</td>\n",
       "      <td>109.1</td>\n",
       "      <td>...</td>\n",
       "      <td>145</td>\n",
       "      <td>idi</td>\n",
       "      <td>3.01</td>\n",
       "      <td>3.40</td>\n",
       "      <td>23.0</td>\n",
       "      <td>106</td>\n",
       "      <td>4800</td>\n",
       "      <td>26</td>\n",
       "      <td>27</td>\n",
       "      <td>22470.0</td>\n",
       "    </tr>\n",
       "    <tr>\n",
       "      <th>204</th>\n",
       "      <td>205</td>\n",
       "      <td>-1</td>\n",
       "      <td>volvo 264gl</td>\n",
       "      <td>gas</td>\n",
       "      <td>turbo</td>\n",
       "      <td>four</td>\n",
       "      <td>sedan</td>\n",
       "      <td>rwd</td>\n",
       "      <td>front</td>\n",
       "      <td>109.1</td>\n",
       "      <td>...</td>\n",
       "      <td>141</td>\n",
       "      <td>mpfi</td>\n",
       "      <td>3.78</td>\n",
       "      <td>3.15</td>\n",
       "      <td>9.5</td>\n",
       "      <td>114</td>\n",
       "      <td>5400</td>\n",
       "      <td>19</td>\n",
       "      <td>25</td>\n",
       "      <td>22625.0</td>\n",
       "    </tr>\n",
       "  </tbody>\n",
       "</table>\n",
       "<p>5 rows × 26 columns</p>\n",
       "</div>"
      ],
      "text/plain": [
       "     car_ID  symboling          CarName fueltype aspiration doornumber  \\\n",
       "200     201         -1  volvo 145e (sw)      gas        std       four   \n",
       "201     202         -1      volvo 144ea      gas      turbo       four   \n",
       "202     203         -1      volvo 244dl      gas        std       four   \n",
       "203     204         -1        volvo 246   diesel      turbo       four   \n",
       "204     205         -1      volvo 264gl      gas      turbo       four   \n",
       "\n",
       "    carbody drivewheel enginelocation  wheelbase  ...  enginesize  fuelsystem  \\\n",
       "200   sedan        rwd          front      109.1  ...         141        mpfi   \n",
       "201   sedan        rwd          front      109.1  ...         141        mpfi   \n",
       "202   sedan        rwd          front      109.1  ...         173        mpfi   \n",
       "203   sedan        rwd          front      109.1  ...         145         idi   \n",
       "204   sedan        rwd          front      109.1  ...         141        mpfi   \n",
       "\n",
       "     boreratio  stroke compressionratio horsepower  peakrpm citympg  \\\n",
       "200       3.78    3.15              9.5        114     5400      23   \n",
       "201       3.78    3.15              8.7        160     5300      19   \n",
       "202       3.58    2.87              8.8        134     5500      18   \n",
       "203       3.01    3.40             23.0        106     4800      26   \n",
       "204       3.78    3.15              9.5        114     5400      19   \n",
       "\n",
       "     highwaympg    price  \n",
       "200          28  16845.0  \n",
       "201          25  19045.0  \n",
       "202          23  21485.0  \n",
       "203          27  22470.0  \n",
       "204          25  22625.0  \n",
       "\n",
       "[5 rows x 26 columns]"
      ]
     },
     "execution_count": 5,
     "metadata": {},
     "output_type": "execute_result"
    }
   ],
   "source": [
    "df.tail()"
   ]
  },
  {
   "cell_type": "code",
   "execution_count": 6,
   "id": "54874669",
   "metadata": {},
   "outputs": [
    {
     "data": {
      "text/html": [
       "<div>\n",
       "<style scoped>\n",
       "    .dataframe tbody tr th:only-of-type {\n",
       "        vertical-align: middle;\n",
       "    }\n",
       "\n",
       "    .dataframe tbody tr th {\n",
       "        vertical-align: top;\n",
       "    }\n",
       "\n",
       "    .dataframe thead th {\n",
       "        text-align: right;\n",
       "    }\n",
       "</style>\n",
       "<table border=\"1\" class=\"dataframe\">\n",
       "  <thead>\n",
       "    <tr style=\"text-align: right;\">\n",
       "      <th></th>\n",
       "      <th>car_ID</th>\n",
       "      <th>symboling</th>\n",
       "      <th>wheelbase</th>\n",
       "      <th>carlength</th>\n",
       "      <th>carwidth</th>\n",
       "      <th>carheight</th>\n",
       "      <th>curbweight</th>\n",
       "      <th>enginesize</th>\n",
       "      <th>boreratio</th>\n",
       "      <th>stroke</th>\n",
       "      <th>compressionratio</th>\n",
       "      <th>horsepower</th>\n",
       "      <th>peakrpm</th>\n",
       "      <th>citympg</th>\n",
       "      <th>highwaympg</th>\n",
       "      <th>price</th>\n",
       "    </tr>\n",
       "  </thead>\n",
       "  <tbody>\n",
       "    <tr>\n",
       "      <th>count</th>\n",
       "      <td>205.000000</td>\n",
       "      <td>205.000000</td>\n",
       "      <td>205.000000</td>\n",
       "      <td>205.000000</td>\n",
       "      <td>205.000000</td>\n",
       "      <td>205.000000</td>\n",
       "      <td>205.000000</td>\n",
       "      <td>205.000000</td>\n",
       "      <td>205.000000</td>\n",
       "      <td>205.000000</td>\n",
       "      <td>205.000000</td>\n",
       "      <td>205.000000</td>\n",
       "      <td>205.000000</td>\n",
       "      <td>205.000000</td>\n",
       "      <td>205.000000</td>\n",
       "      <td>205.000000</td>\n",
       "    </tr>\n",
       "    <tr>\n",
       "      <th>mean</th>\n",
       "      <td>103.000000</td>\n",
       "      <td>0.834146</td>\n",
       "      <td>98.756585</td>\n",
       "      <td>174.049268</td>\n",
       "      <td>65.907805</td>\n",
       "      <td>53.724878</td>\n",
       "      <td>2555.565854</td>\n",
       "      <td>126.907317</td>\n",
       "      <td>3.329756</td>\n",
       "      <td>3.255415</td>\n",
       "      <td>10.142537</td>\n",
       "      <td>104.117073</td>\n",
       "      <td>5125.121951</td>\n",
       "      <td>25.219512</td>\n",
       "      <td>30.751220</td>\n",
       "      <td>13276.710571</td>\n",
       "    </tr>\n",
       "    <tr>\n",
       "      <th>std</th>\n",
       "      <td>59.322565</td>\n",
       "      <td>1.245307</td>\n",
       "      <td>6.021776</td>\n",
       "      <td>12.337289</td>\n",
       "      <td>2.145204</td>\n",
       "      <td>2.443522</td>\n",
       "      <td>520.680204</td>\n",
       "      <td>41.642693</td>\n",
       "      <td>0.270844</td>\n",
       "      <td>0.313597</td>\n",
       "      <td>3.972040</td>\n",
       "      <td>39.544167</td>\n",
       "      <td>476.985643</td>\n",
       "      <td>6.542142</td>\n",
       "      <td>6.886443</td>\n",
       "      <td>7988.852332</td>\n",
       "    </tr>\n",
       "    <tr>\n",
       "      <th>min</th>\n",
       "      <td>1.000000</td>\n",
       "      <td>-2.000000</td>\n",
       "      <td>86.600000</td>\n",
       "      <td>141.100000</td>\n",
       "      <td>60.300000</td>\n",
       "      <td>47.800000</td>\n",
       "      <td>1488.000000</td>\n",
       "      <td>61.000000</td>\n",
       "      <td>2.540000</td>\n",
       "      <td>2.070000</td>\n",
       "      <td>7.000000</td>\n",
       "      <td>48.000000</td>\n",
       "      <td>4150.000000</td>\n",
       "      <td>13.000000</td>\n",
       "      <td>16.000000</td>\n",
       "      <td>5118.000000</td>\n",
       "    </tr>\n",
       "    <tr>\n",
       "      <th>25%</th>\n",
       "      <td>52.000000</td>\n",
       "      <td>0.000000</td>\n",
       "      <td>94.500000</td>\n",
       "      <td>166.300000</td>\n",
       "      <td>64.100000</td>\n",
       "      <td>52.000000</td>\n",
       "      <td>2145.000000</td>\n",
       "      <td>97.000000</td>\n",
       "      <td>3.150000</td>\n",
       "      <td>3.110000</td>\n",
       "      <td>8.600000</td>\n",
       "      <td>70.000000</td>\n",
       "      <td>4800.000000</td>\n",
       "      <td>19.000000</td>\n",
       "      <td>25.000000</td>\n",
       "      <td>7788.000000</td>\n",
       "    </tr>\n",
       "    <tr>\n",
       "      <th>50%</th>\n",
       "      <td>103.000000</td>\n",
       "      <td>1.000000</td>\n",
       "      <td>97.000000</td>\n",
       "      <td>173.200000</td>\n",
       "      <td>65.500000</td>\n",
       "      <td>54.100000</td>\n",
       "      <td>2414.000000</td>\n",
       "      <td>120.000000</td>\n",
       "      <td>3.310000</td>\n",
       "      <td>3.290000</td>\n",
       "      <td>9.000000</td>\n",
       "      <td>95.000000</td>\n",
       "      <td>5200.000000</td>\n",
       "      <td>24.000000</td>\n",
       "      <td>30.000000</td>\n",
       "      <td>10295.000000</td>\n",
       "    </tr>\n",
       "    <tr>\n",
       "      <th>75%</th>\n",
       "      <td>154.000000</td>\n",
       "      <td>2.000000</td>\n",
       "      <td>102.400000</td>\n",
       "      <td>183.100000</td>\n",
       "      <td>66.900000</td>\n",
       "      <td>55.500000</td>\n",
       "      <td>2935.000000</td>\n",
       "      <td>141.000000</td>\n",
       "      <td>3.580000</td>\n",
       "      <td>3.410000</td>\n",
       "      <td>9.400000</td>\n",
       "      <td>116.000000</td>\n",
       "      <td>5500.000000</td>\n",
       "      <td>30.000000</td>\n",
       "      <td>34.000000</td>\n",
       "      <td>16503.000000</td>\n",
       "    </tr>\n",
       "    <tr>\n",
       "      <th>max</th>\n",
       "      <td>205.000000</td>\n",
       "      <td>3.000000</td>\n",
       "      <td>120.900000</td>\n",
       "      <td>208.100000</td>\n",
       "      <td>72.300000</td>\n",
       "      <td>59.800000</td>\n",
       "      <td>4066.000000</td>\n",
       "      <td>326.000000</td>\n",
       "      <td>3.940000</td>\n",
       "      <td>4.170000</td>\n",
       "      <td>23.000000</td>\n",
       "      <td>288.000000</td>\n",
       "      <td>6600.000000</td>\n",
       "      <td>49.000000</td>\n",
       "      <td>54.000000</td>\n",
       "      <td>45400.000000</td>\n",
       "    </tr>\n",
       "  </tbody>\n",
       "</table>\n",
       "</div>"
      ],
      "text/plain": [
       "           car_ID   symboling   wheelbase   carlength    carwidth   carheight  \\\n",
       "count  205.000000  205.000000  205.000000  205.000000  205.000000  205.000000   \n",
       "mean   103.000000    0.834146   98.756585  174.049268   65.907805   53.724878   \n",
       "std     59.322565    1.245307    6.021776   12.337289    2.145204    2.443522   \n",
       "min      1.000000   -2.000000   86.600000  141.100000   60.300000   47.800000   \n",
       "25%     52.000000    0.000000   94.500000  166.300000   64.100000   52.000000   \n",
       "50%    103.000000    1.000000   97.000000  173.200000   65.500000   54.100000   \n",
       "75%    154.000000    2.000000  102.400000  183.100000   66.900000   55.500000   \n",
       "max    205.000000    3.000000  120.900000  208.100000   72.300000   59.800000   \n",
       "\n",
       "        curbweight  enginesize   boreratio      stroke  compressionratio  \\\n",
       "count   205.000000  205.000000  205.000000  205.000000        205.000000   \n",
       "mean   2555.565854  126.907317    3.329756    3.255415         10.142537   \n",
       "std     520.680204   41.642693    0.270844    0.313597          3.972040   \n",
       "min    1488.000000   61.000000    2.540000    2.070000          7.000000   \n",
       "25%    2145.000000   97.000000    3.150000    3.110000          8.600000   \n",
       "50%    2414.000000  120.000000    3.310000    3.290000          9.000000   \n",
       "75%    2935.000000  141.000000    3.580000    3.410000          9.400000   \n",
       "max    4066.000000  326.000000    3.940000    4.170000         23.000000   \n",
       "\n",
       "       horsepower      peakrpm     citympg  highwaympg         price  \n",
       "count  205.000000   205.000000  205.000000  205.000000    205.000000  \n",
       "mean   104.117073  5125.121951   25.219512   30.751220  13276.710571  \n",
       "std     39.544167   476.985643    6.542142    6.886443   7988.852332  \n",
       "min     48.000000  4150.000000   13.000000   16.000000   5118.000000  \n",
       "25%     70.000000  4800.000000   19.000000   25.000000   7788.000000  \n",
       "50%     95.000000  5200.000000   24.000000   30.000000  10295.000000  \n",
       "75%    116.000000  5500.000000   30.000000   34.000000  16503.000000  \n",
       "max    288.000000  6600.000000   49.000000   54.000000  45400.000000  "
      ]
     },
     "execution_count": 6,
     "metadata": {},
     "output_type": "execute_result"
    }
   ],
   "source": [
    "df.describe()"
   ]
  },
  {
   "cell_type": "code",
   "execution_count": 7,
   "id": "d8dc6e6e",
   "metadata": {},
   "outputs": [
    {
     "name": "stdout",
     "output_type": "stream",
     "text": [
      "<class 'pandas.core.frame.DataFrame'>\n",
      "RangeIndex: 205 entries, 0 to 204\n",
      "Data columns (total 26 columns):\n",
      " #   Column            Non-Null Count  Dtype  \n",
      "---  ------            --------------  -----  \n",
      " 0   car_ID            205 non-null    int64  \n",
      " 1   symboling         205 non-null    int64  \n",
      " 2   CarName           205 non-null    object \n",
      " 3   fueltype          205 non-null    object \n",
      " 4   aspiration        205 non-null    object \n",
      " 5   doornumber        205 non-null    object \n",
      " 6   carbody           205 non-null    object \n",
      " 7   drivewheel        205 non-null    object \n",
      " 8   enginelocation    205 non-null    object \n",
      " 9   wheelbase         205 non-null    float64\n",
      " 10  carlength         205 non-null    float64\n",
      " 11  carwidth          205 non-null    float64\n",
      " 12  carheight         205 non-null    float64\n",
      " 13  curbweight        205 non-null    int64  \n",
      " 14  enginetype        205 non-null    object \n",
      " 15  cylindernumber    205 non-null    object \n",
      " 16  enginesize        205 non-null    int64  \n",
      " 17  fuelsystem        205 non-null    object \n",
      " 18  boreratio         205 non-null    float64\n",
      " 19  stroke            205 non-null    float64\n",
      " 20  compressionratio  205 non-null    float64\n",
      " 21  horsepower        205 non-null    int64  \n",
      " 22  peakrpm           205 non-null    int64  \n",
      " 23  citympg           205 non-null    int64  \n",
      " 24  highwaympg        205 non-null    int64  \n",
      " 25  price             205 non-null    float64\n",
      "dtypes: float64(8), int64(8), object(10)\n",
      "memory usage: 41.8+ KB\n"
     ]
    }
   ],
   "source": [
    "df.info()"
   ]
  },
  {
   "cell_type": "code",
   "execution_count": 8,
   "id": "2a9d10a7",
   "metadata": {},
   "outputs": [
    {
     "data": {
      "text/plain": [
       "(205, 26)"
      ]
     },
     "execution_count": 8,
     "metadata": {},
     "output_type": "execute_result"
    }
   ],
   "source": [
    "df.shape"
   ]
  },
  {
   "cell_type": "markdown",
   "id": "01e86883",
   "metadata": {},
   "source": [
    "# Preprocessing the Car Prices Dataset"
   ]
  },
  {
   "cell_type": "code",
   "execution_count": 9,
   "id": "c6d0945b",
   "metadata": {},
   "outputs": [
    {
     "data": {
      "text/plain": [
       "car_ID              0\n",
       "symboling           0\n",
       "CarName             0\n",
       "fueltype            0\n",
       "aspiration          0\n",
       "doornumber          0\n",
       "carbody             0\n",
       "drivewheel          0\n",
       "enginelocation      0\n",
       "wheelbase           0\n",
       "carlength           0\n",
       "carwidth            0\n",
       "carheight           0\n",
       "curbweight          0\n",
       "enginetype          0\n",
       "cylindernumber      0\n",
       "enginesize          0\n",
       "fuelsystem          0\n",
       "boreratio           0\n",
       "stroke              0\n",
       "compressionratio    0\n",
       "horsepower          0\n",
       "peakrpm             0\n",
       "citympg             0\n",
       "highwaympg          0\n",
       "price               0\n",
       "dtype: int64"
      ]
     },
     "execution_count": 9,
     "metadata": {},
     "output_type": "execute_result"
    }
   ],
   "source": [
    "df.isnull().sum()"
   ]
  },
  {
   "cell_type": "code",
   "execution_count": 10,
   "id": "10a53ff2",
   "metadata": {
    "scrolled": true
   },
   "outputs": [
    {
     "data": {
      "text/plain": [
       "Index(['car_ID', 'symboling', 'CarName', 'fueltype', 'aspiration',\n",
       "       'doornumber', 'carbody', 'drivewheel', 'enginelocation', 'wheelbase',\n",
       "       'carlength', 'carwidth', 'carheight', 'curbweight', 'enginetype',\n",
       "       'cylindernumber', 'enginesize', 'fuelsystem', 'boreratio', 'stroke',\n",
       "       'compressionratio', 'horsepower', 'peakrpm', 'citympg', 'highwaympg',\n",
       "       'price'],\n",
       "      dtype='object')"
      ]
     },
     "execution_count": 10,
     "metadata": {},
     "output_type": "execute_result"
    }
   ],
   "source": [
    "df.columns"
   ]
  },
  {
   "cell_type": "markdown",
   "id": "24bf7a62",
   "metadata": {},
   "source": [
    "# Renaming Columns in the DataFrame for Better Readability"
   ]
  },
  {
   "cell_type": "code",
   "execution_count": 11,
   "id": "2ff626a5",
   "metadata": {},
   "outputs": [],
   "source": [
    "df.rename(columns={\n",
    "    'CarName': 'car_name','fueltype': 'fuel_type','doornumber': 'door_number','carbody': 'car_body','drivewheel': 'drive_wheel',\n",
    "    'enginelocation': 'engine_location','wheelbase': 'wheel_base','carlength': 'car_length','carwidth': 'car_width','carheight': 'car_height','curbweight': 'curb_weight',\n",
    "    'enginetype': 'engine_type','cylindernumber': 'cylinder_number','enginesize': 'engine_size','fuelsystem': 'fuel_system','boreratio': 'bore_ratio',\n",
    "    'compressionratio': 'compression_ratio','peakrpm': 'peak_rpm','citympg': 'city_mpg','highwaympg': 'highway_mpg'}, inplace=True)"
   ]
  },
  {
   "cell_type": "code",
   "execution_count": 12,
   "id": "c10b430e",
   "metadata": {},
   "outputs": [
    {
     "data": {
      "text/plain": [
       "0"
      ]
     },
     "execution_count": 12,
     "metadata": {},
     "output_type": "execute_result"
    }
   ],
   "source": [
    "df.duplicated().sum()"
   ]
  },
  {
   "cell_type": "markdown",
   "id": "8eaf1bdf",
   "metadata": {},
   "source": [
    "# Calculating Correlation Matrix for Numerical Features"
   ]
  },
  {
   "cell_type": "code",
   "execution_count": 13,
   "id": "36c020ab",
   "metadata": {},
   "outputs": [
    {
     "name": "stdout",
     "output_type": "stream",
     "text": [
      "                     car_ID  symboling  wheel_base  car_length  car_width  \\\n",
      "car_ID             1.000000  -0.151621    0.129729    0.170636   0.052387   \n",
      "symboling         -0.151621   1.000000   -0.531954   -0.357612  -0.232919   \n",
      "wheel_base         0.129729  -0.531954    1.000000    0.874587   0.795144   \n",
      "car_length         0.170636  -0.357612    0.874587    1.000000   0.841118   \n",
      "car_width          0.052387  -0.232919    0.795144    0.841118   1.000000   \n",
      "car_height         0.255960  -0.541038    0.589435    0.491029   0.279210   \n",
      "curb_weight        0.071962  -0.227691    0.776386    0.877728   0.867032   \n",
      "engine_size       -0.033930  -0.105790    0.569329    0.683360   0.735433   \n",
      "bore_ratio         0.260064  -0.130051    0.488750    0.606454   0.559150   \n",
      "stroke            -0.160824  -0.008735    0.160959    0.129533   0.182942   \n",
      "compression_ratio  0.150276  -0.178515    0.249786    0.158414   0.181129   \n",
      "horsepower        -0.015006   0.070873    0.353294    0.552623   0.640732   \n",
      "peak_rpm          -0.203789   0.273606   -0.360469   -0.287242  -0.220012   \n",
      "city_mpg           0.015940  -0.035823   -0.470414   -0.670909  -0.642704   \n",
      "highway_mpg        0.011255   0.034606   -0.544082   -0.704662  -0.677218   \n",
      "price             -0.109093  -0.079978    0.577816    0.682920   0.759325   \n",
      "\n",
      "                   car_height  curb_weight  engine_size  bore_ratio    stroke  \\\n",
      "car_ID               0.255960     0.071962    -0.033930    0.260064 -0.160824   \n",
      "symboling           -0.541038    -0.227691    -0.105790   -0.130051 -0.008735   \n",
      "wheel_base           0.589435     0.776386     0.569329    0.488750  0.160959   \n",
      "car_length           0.491029     0.877728     0.683360    0.606454  0.129533   \n",
      "car_width            0.279210     0.867032     0.735433    0.559150  0.182942   \n",
      "car_height           1.000000     0.295572     0.067149    0.171071 -0.055307   \n",
      "curb_weight          0.295572     1.000000     0.850594    0.648480  0.168790   \n",
      "engine_size          0.067149     0.850594     1.000000    0.583774  0.203129   \n",
      "bore_ratio           0.171071     0.648480     0.583774    1.000000 -0.055909   \n",
      "stroke              -0.055307     0.168790     0.203129   -0.055909  1.000000   \n",
      "compression_ratio    0.261214     0.151362     0.028971    0.005197  0.186110   \n",
      "horsepower          -0.108802     0.750739     0.809769    0.573677  0.080940   \n",
      "peak_rpm            -0.320411    -0.266243    -0.244660   -0.254976 -0.067964   \n",
      "city_mpg            -0.048640    -0.757414    -0.653658   -0.584532 -0.042145   \n",
      "highway_mpg         -0.107358    -0.797465    -0.677470   -0.587012 -0.043931   \n",
      "price                0.119336     0.835305     0.874145    0.553173  0.079443   \n",
      "\n",
      "                   compression_ratio  horsepower  peak_rpm  city_mpg  \\\n",
      "car_ID                      0.150276   -0.015006 -0.203789  0.015940   \n",
      "symboling                  -0.178515    0.070873  0.273606 -0.035823   \n",
      "wheel_base                  0.249786    0.353294 -0.360469 -0.470414   \n",
      "car_length                  0.158414    0.552623 -0.287242 -0.670909   \n",
      "car_width                   0.181129    0.640732 -0.220012 -0.642704   \n",
      "car_height                  0.261214   -0.108802 -0.320411 -0.048640   \n",
      "curb_weight                 0.151362    0.750739 -0.266243 -0.757414   \n",
      "engine_size                 0.028971    0.809769 -0.244660 -0.653658   \n",
      "bore_ratio                  0.005197    0.573677 -0.254976 -0.584532   \n",
      "stroke                      0.186110    0.080940 -0.067964 -0.042145   \n",
      "compression_ratio           1.000000   -0.204326 -0.435741  0.324701   \n",
      "horsepower                 -0.204326    1.000000  0.131073 -0.801456   \n",
      "peak_rpm                   -0.435741    0.131073  1.000000 -0.113544   \n",
      "city_mpg                    0.324701   -0.801456 -0.113544  1.000000   \n",
      "highway_mpg                 0.265201   -0.770544 -0.054275  0.971337   \n",
      "price                       0.067984    0.808139 -0.085267 -0.685751   \n",
      "\n",
      "                   highway_mpg     price  \n",
      "car_ID                0.011255 -0.109093  \n",
      "symboling             0.034606 -0.079978  \n",
      "wheel_base           -0.544082  0.577816  \n",
      "car_length           -0.704662  0.682920  \n",
      "car_width            -0.677218  0.759325  \n",
      "car_height           -0.107358  0.119336  \n",
      "curb_weight          -0.797465  0.835305  \n",
      "engine_size          -0.677470  0.874145  \n",
      "bore_ratio           -0.587012  0.553173  \n",
      "stroke               -0.043931  0.079443  \n",
      "compression_ratio     0.265201  0.067984  \n",
      "horsepower           -0.770544  0.808139  \n",
      "peak_rpm             -0.054275 -0.085267  \n",
      "city_mpg              0.971337 -0.685751  \n",
      "highway_mpg           1.000000 -0.697599  \n",
      "price                -0.697599  1.000000  \n"
     ]
    }
   ],
   "source": [
    "numerical = df.select_dtypes(include=['float64','int64'])\n",
    "corr = numerical.corr()\n",
    "\n",
    "print(corr)"
   ]
  },
  {
   "cell_type": "markdown",
   "id": "1e87870e",
   "metadata": {},
   "source": [
    "# Boxplot Visualization of Numerical Variables"
   ]
  },
  {
   "cell_type": "code",
   "execution_count": 14,
   "id": "729d814f",
   "metadata": {
    "scrolled": false
   },
   "outputs": [
    {
     "data": {
      "text/plain": [
       "(array([ 0,  1,  2,  3,  4,  5,  6,  7,  8,  9, 10, 11, 12, 13, 14, 15]),\n",
       " [Text(0, 0, 'car_ID'),\n",
       "  Text(1, 0, 'symboling'),\n",
       "  Text(2, 0, 'wheel_base'),\n",
       "  Text(3, 0, 'car_length'),\n",
       "  Text(4, 0, 'car_width'),\n",
       "  Text(5, 0, 'car_height'),\n",
       "  Text(6, 0, 'curb_weight'),\n",
       "  Text(7, 0, 'engine_size'),\n",
       "  Text(8, 0, 'bore_ratio'),\n",
       "  Text(9, 0, 'stroke'),\n",
       "  Text(10, 0, 'compression_ratio'),\n",
       "  Text(11, 0, 'horsepower'),\n",
       "  Text(12, 0, 'peak_rpm'),\n",
       "  Text(13, 0, 'city_mpg'),\n",
       "  Text(14, 0, 'highway_mpg'),\n",
       "  Text(15, 0, 'price')])"
      ]
     },
     "execution_count": 14,
     "metadata": {},
     "output_type": "execute_result"
    },
    {
     "data": {
      "image/png": "[encoded data removed]",
      "text/plain": [
       "<Figure size 1000x800 with 1 Axes>"
      ]
     },
     "metadata": {},
     "output_type": "display_data"
    }
   ],
   "source": [
    "melt_df = df.melt(value_vars=df.select_dtypes(['float64','int64']))\n",
    "\n",
    "plt.figure(figsize=(10,8))\n",
    "sns.boxplot(x=\"variable\",y=\"value\",data=melt_df)\n",
    "plt.xticks(rotation=45)"
   ]
  },
  {
   "cell_type": "markdown",
   "id": "930e603f",
   "metadata": {},
   "source": [
    "After generating the boxplot visualization for numerical variables, it was observed that there are outliers present in the price and peak_rpm columns. Outliers can significantly influence statistical analyses and model performance, potentially skewing results. Identifying these outliers is crucial for making informed decisions on whether to retain, transform, or remove them from the dataset. The presence of outliers in the price column may indicate extreme values that could affect pricing models, while outliers in the peak_rpm column may suggest anomalies in engine performance data. Further investigation into these outliers will help determine their impact on the analysis and guide appropriate preprocessing steps."
   ]
  },
  {
   "cell_type": "markdown",
   "id": "3dbc63e1",
   "metadata": {},
   "source": [
    "# Outlier Detection in Price and Peak RPM Columns"
   ]
  },
  {
   "cell_type": "code",
   "execution_count": 15,
   "id": "33f664a8",
   "metadata": {},
   "outputs": [
    {
     "data": {
      "text/plain": [
       "<Axes: xlabel='peak_rpm'>"
      ]
     },
     "execution_count": 15,
     "metadata": {},
     "output_type": "execute_result"
    },
    {
     "data": {
      "image/png": "[encoded data removed]",
      "text/plain": [
       "<Figure size 640x480 with 1 Axes>"
      ]
     },
     "metadata": {},
     "output_type": "display_data"
    }
   ],
   "source": [
    "sns.boxplot(x=df['peak_rpm'],data=df)"
   ]
  },
  {
   "cell_type": "code",
   "execution_count": 16,
   "id": "cc657995",
   "metadata": {},
   "outputs": [
    {
     "data": {
      "text/plain": [
       "<Axes: xlabel='price'>"
      ]
     },
     "execution_count": 16,
     "metadata": {},
     "output_type": "execute_result"
    },
    {
     "data": {
      "image/png": "[encoded data removed]",
      "text/plain": [
       "<Figure size 640x480 with 1 Axes>"
      ]
     },
     "metadata": {},
     "output_type": "display_data"
    }
   ],
   "source": [
    "sns.boxplot(x=df['price'],data=df)"
   ]
  },
  {
   "cell_type": "markdown",
   "id": "02c1cf55",
   "metadata": {},
   "source": [
    "# Calculating Outlier Limits for Price Column Using Z-Score Method"
   ]
  },
  {
   "cell_type": "code",
   "execution_count": 17,
   "id": "4ab40568",
   "metadata": {},
   "outputs": [
    {
     "name": "stdout",
     "output_type": "stream",
     "text": [
      "uppper_limit : 37243.267565961156\n",
      "lower_limt: -10689.846424497744\n"
     ]
    }
   ],
   "source": [
    "upper_limt1 = df['price'].mean() + 3 * df['price'].std()\n",
    "lower_limt1 = df['price'].mean() - 3 * df['price'].std()\n",
    "\n",
    "print(\"uppper_limit :\",upper_limt1)\n",
    "print(\"lower_limt:\",lower_limt1)"
   ]
  },
  {
   "cell_type": "code",
   "execution_count": 18,
   "id": "470f3dae",
   "metadata": {
    "scrolled": true
   },
   "outputs": [
    {
     "data": {
      "text/html": [
       "<div>\n",
       "<style scoped>\n",
       "    .dataframe tbody tr th:only-of-type {\n",
       "        vertical-align: middle;\n",
       "    }\n",
       "\n",
       "    .dataframe tbody tr th {\n",
       "        vertical-align: top;\n",
       "    }\n",
       "\n",
       "    .dataframe thead th {\n",
       "        text-align: right;\n",
       "    }\n",
       "</style>\n",
       "<table border=\"1\" class=\"dataframe\">\n",
       "  <thead>\n",
       "    <tr style=\"text-align: right;\">\n",
       "      <th></th>\n",
       "      <th>car_ID</th>\n",
       "      <th>symboling</th>\n",
       "      <th>car_name</th>\n",
       "      <th>fuel_type</th>\n",
       "      <th>aspiration</th>\n",
       "      <th>door_number</th>\n",
       "      <th>car_body</th>\n",
       "      <th>drive_wheel</th>\n",
       "      <th>engine_location</th>\n",
       "      <th>wheel_base</th>\n",
       "      <th>...</th>\n",
       "      <th>engine_size</th>\n",
       "      <th>fuel_system</th>\n",
       "      <th>bore_ratio</th>\n",
       "      <th>stroke</th>\n",
       "      <th>compression_ratio</th>\n",
       "      <th>horsepower</th>\n",
       "      <th>peak_rpm</th>\n",
       "      <th>city_mpg</th>\n",
       "      <th>highway_mpg</th>\n",
       "      <th>price</th>\n",
       "    </tr>\n",
       "  </thead>\n",
       "  <tbody>\n",
       "    <tr>\n",
       "      <th>16</th>\n",
       "      <td>17</td>\n",
       "      <td>0</td>\n",
       "      <td>bmw x5</td>\n",
       "      <td>gas</td>\n",
       "      <td>std</td>\n",
       "      <td>two</td>\n",
       "      <td>sedan</td>\n",
       "      <td>rwd</td>\n",
       "      <td>front</td>\n",
       "      <td>103.5</td>\n",
       "      <td>...</td>\n",
       "      <td>209</td>\n",
       "      <td>mpfi</td>\n",
       "      <td>3.62</td>\n",
       "      <td>3.39</td>\n",
       "      <td>8.0</td>\n",
       "      <td>182</td>\n",
       "      <td>5400</td>\n",
       "      <td>16</td>\n",
       "      <td>22</td>\n",
       "      <td>41315.0</td>\n",
       "    </tr>\n",
       "    <tr>\n",
       "      <th>73</th>\n",
       "      <td>74</td>\n",
       "      <td>0</td>\n",
       "      <td>buick century special</td>\n",
       "      <td>gas</td>\n",
       "      <td>std</td>\n",
       "      <td>four</td>\n",
       "      <td>sedan</td>\n",
       "      <td>rwd</td>\n",
       "      <td>front</td>\n",
       "      <td>120.9</td>\n",
       "      <td>...</td>\n",
       "      <td>308</td>\n",
       "      <td>mpfi</td>\n",
       "      <td>3.80</td>\n",
       "      <td>3.35</td>\n",
       "      <td>8.0</td>\n",
       "      <td>184</td>\n",
       "      <td>4500</td>\n",
       "      <td>14</td>\n",
       "      <td>16</td>\n",
       "      <td>40960.0</td>\n",
       "    </tr>\n",
       "    <tr>\n",
       "      <th>74</th>\n",
       "      <td>75</td>\n",
       "      <td>1</td>\n",
       "      <td>buick regal sport coupe (turbo)</td>\n",
       "      <td>gas</td>\n",
       "      <td>std</td>\n",
       "      <td>two</td>\n",
       "      <td>hardtop</td>\n",
       "      <td>rwd</td>\n",
       "      <td>front</td>\n",
       "      <td>112.0</td>\n",
       "      <td>...</td>\n",
       "      <td>304</td>\n",
       "      <td>mpfi</td>\n",
       "      <td>3.80</td>\n",
       "      <td>3.35</td>\n",
       "      <td>8.0</td>\n",
       "      <td>184</td>\n",
       "      <td>4500</td>\n",
       "      <td>14</td>\n",
       "      <td>16</td>\n",
       "      <td>45400.0</td>\n",
       "    </tr>\n",
       "  </tbody>\n",
       "</table>\n",
       "<p>3 rows × 26 columns</p>\n",
       "</div>"
      ],
      "text/plain": [
       "    car_ID  symboling                         car_name fuel_type aspiration  \\\n",
       "16      17          0                           bmw x5       gas        std   \n",
       "73      74          0            buick century special       gas        std   \n",
       "74      75          1  buick regal sport coupe (turbo)       gas        std   \n",
       "\n",
       "   door_number car_body drive_wheel engine_location  wheel_base  ...  \\\n",
       "16         two    sedan         rwd           front       103.5  ...   \n",
       "73        four    sedan         rwd           front       120.9  ...   \n",
       "74         two  hardtop         rwd           front       112.0  ...   \n",
       "\n",
       "    engine_size  fuel_system  bore_ratio  stroke compression_ratio horsepower  \\\n",
       "16          209         mpfi        3.62    3.39               8.0        182   \n",
       "73          308         mpfi        3.80    3.35               8.0        184   \n",
       "74          304         mpfi        3.80    3.35               8.0        184   \n",
       "\n",
       "    peak_rpm city_mpg  highway_mpg    price  \n",
       "16      5400       16           22  41315.0  \n",
       "73      4500       14           16  40960.0  \n",
       "74      4500       14           16  45400.0  \n",
       "\n",
       "[3 rows x 26 columns]"
      ]
     },
     "execution_count": 18,
     "metadata": {},
     "output_type": "execute_result"
    }
   ],
   "source": [
    "df.loc[(df['price']>upper_limt1) | (df['price']<lower_limt1)]"
   ]
  },
  {
   "cell_type": "markdown",
   "id": "1f951796",
   "metadata": {},
   "source": [
    "# Calculating Outlier Limits for Peak RPM Column Using Z-Score Method"
   ]
  },
  {
   "cell_type": "code",
   "execution_count": 19,
   "id": "4ad61ac1",
   "metadata": {},
   "outputs": [
    {
     "name": "stdout",
     "output_type": "stream",
     "text": [
      "uppper_limit : 6556.0788803903515\n",
      "lower_limt: 3694.1650220486727\n"
     ]
    }
   ],
   "source": [
    "upper_limt2 = df['peak_rpm'].mean() + 3 * df['peak_rpm'].std()\n",
    "lower_limt2 = df['peak_rpm'].mean() - 3 * df['peak_rpm'].std()\n",
    "\n",
    "print(\"uppper_limit :\",upper_limt2)\n",
    "print(\"lower_limt:\",lower_limt2)"
   ]
  },
  {
   "cell_type": "code",
   "execution_count": 20,
   "id": "2e97ab55",
   "metadata": {},
   "outputs": [
    {
     "data": {
      "text/html": [
       "<div>\n",
       "<style scoped>\n",
       "    .dataframe tbody tr th:only-of-type {\n",
       "        vertical-align: middle;\n",
       "    }\n",
       "\n",
       "    .dataframe tbody tr th {\n",
       "        vertical-align: top;\n",
       "    }\n",
       "\n",
       "    .dataframe thead th {\n",
       "        text-align: right;\n",
       "    }\n",
       "</style>\n",
       "<table border=\"1\" class=\"dataframe\">\n",
       "  <thead>\n",
       "    <tr style=\"text-align: right;\">\n",
       "      <th></th>\n",
       "      <th>car_ID</th>\n",
       "      <th>symboling</th>\n",
       "      <th>car_name</th>\n",
       "      <th>fuel_type</th>\n",
       "      <th>aspiration</th>\n",
       "      <th>door_number</th>\n",
       "      <th>car_body</th>\n",
       "      <th>drive_wheel</th>\n",
       "      <th>engine_location</th>\n",
       "      <th>wheel_base</th>\n",
       "      <th>...</th>\n",
       "      <th>engine_size</th>\n",
       "      <th>fuel_system</th>\n",
       "      <th>bore_ratio</th>\n",
       "      <th>stroke</th>\n",
       "      <th>compression_ratio</th>\n",
       "      <th>horsepower</th>\n",
       "      <th>peak_rpm</th>\n",
       "      <th>city_mpg</th>\n",
       "      <th>highway_mpg</th>\n",
       "      <th>price</th>\n",
       "    </tr>\n",
       "  </thead>\n",
       "  <tbody>\n",
       "    <tr>\n",
       "      <th>165</th>\n",
       "      <td>166</td>\n",
       "      <td>1</td>\n",
       "      <td>toyota celica gt liftback</td>\n",
       "      <td>gas</td>\n",
       "      <td>std</td>\n",
       "      <td>two</td>\n",
       "      <td>sedan</td>\n",
       "      <td>rwd</td>\n",
       "      <td>front</td>\n",
       "      <td>94.5</td>\n",
       "      <td>...</td>\n",
       "      <td>98</td>\n",
       "      <td>mpfi</td>\n",
       "      <td>3.24</td>\n",
       "      <td>3.08</td>\n",
       "      <td>9.4</td>\n",
       "      <td>112</td>\n",
       "      <td>6600</td>\n",
       "      <td>26</td>\n",
       "      <td>29</td>\n",
       "      <td>9298.0</td>\n",
       "    </tr>\n",
       "    <tr>\n",
       "      <th>166</th>\n",
       "      <td>167</td>\n",
       "      <td>1</td>\n",
       "      <td>toyota corolla tercel</td>\n",
       "      <td>gas</td>\n",
       "      <td>std</td>\n",
       "      <td>two</td>\n",
       "      <td>hatchback</td>\n",
       "      <td>rwd</td>\n",
       "      <td>front</td>\n",
       "      <td>94.5</td>\n",
       "      <td>...</td>\n",
       "      <td>98</td>\n",
       "      <td>mpfi</td>\n",
       "      <td>3.24</td>\n",
       "      <td>3.08</td>\n",
       "      <td>9.4</td>\n",
       "      <td>112</td>\n",
       "      <td>6600</td>\n",
       "      <td>26</td>\n",
       "      <td>29</td>\n",
       "      <td>9538.0</td>\n",
       "    </tr>\n",
       "  </tbody>\n",
       "</table>\n",
       "<p>2 rows × 26 columns</p>\n",
       "</div>"
      ],
      "text/plain": [
       "     car_ID  symboling                   car_name fuel_type aspiration  \\\n",
       "165     166          1  toyota celica gt liftback       gas        std   \n",
       "166     167          1      toyota corolla tercel       gas        std   \n",
       "\n",
       "    door_number   car_body drive_wheel engine_location  wheel_base  ...  \\\n",
       "165         two      sedan         rwd           front        94.5  ...   \n",
       "166         two  hatchback         rwd           front        94.5  ...   \n",
       "\n",
       "     engine_size  fuel_system  bore_ratio  stroke compression_ratio  \\\n",
       "165           98         mpfi        3.24    3.08               9.4   \n",
       "166           98         mpfi        3.24    3.08               9.4   \n",
       "\n",
       "    horsepower  peak_rpm city_mpg  highway_mpg   price  \n",
       "165        112      6600       26           29  9298.0  \n",
       "166        112      6600       26           29  9538.0  \n",
       "\n",
       "[2 rows x 26 columns]"
      ]
     },
     "execution_count": 20,
     "metadata": {},
     "output_type": "execute_result"
    }
   ],
   "source": [
    "df.loc[(df['peak_rpm']>upper_limt2) | (df['peak_rpm']<lower_limt2)]"
   ]
  },
  {
   "cell_type": "code",
   "execution_count": 21,
   "id": "9ed5acc3",
   "metadata": {},
   "outputs": [],
   "source": [
    "new_df = df.copy()"
   ]
  },
  {
   "cell_type": "markdown",
   "id": "3c5bd018",
   "metadata": {},
   "source": [
    "# Capping Outliers in Price Column Using Z-Score Method"
   ]
  },
  {
   "cell_type": "code",
   "execution_count": 22,
   "id": "bb454cff",
   "metadata": {},
   "outputs": [],
   "source": [
    "new_df = new_df.loc[(df['price']<upper_limt1) & (df['price']>lower_limt1)]"
   ]
  },
  {
   "cell_type": "markdown",
   "id": "112c70c2",
   "metadata": {},
   "source": [
    "# Capping Outliers in Peak rpm Column Using Z-Score Method"
   ]
  },
  {
   "cell_type": "code",
   "execution_count": 41,
   "id": "cd937776",
   "metadata": {},
   "outputs": [],
   "source": [
    "new_df = new_df.loc[(df['peak_rpm']<upper_limt2) & (df['peak_rpm']>lower_limt2)]"
   ]
  },
  {
   "cell_type": "markdown",
   "id": "84da8061",
   "metadata": {},
   "source": [
    "# After Capping"
   ]
  },
  {
   "cell_type": "code",
   "execution_count": 24,
   "id": "7d4acc3e",
   "metadata": {},
   "outputs": [
    {
     "data": {
      "text/plain": [
       "<Axes: xlabel='peak_rpm'>"
      ]
     },
     "execution_count": 24,
     "metadata": {},
     "output_type": "execute_result"
    },
    {
     "data": {
      "image/png": "[encoded data removed]",
      "text/plain": [
       "<Figure size 640x480 with 1 Axes>"
      ]
     },
     "metadata": {},
     "output_type": "display_data"
    }
   ],
   "source": [
    "sns.boxplot(x=new_df['peak_rpm'],data=new_df)"
   ]
  },
  {
   "cell_type": "code",
   "execution_count": 25,
   "id": "1e82c805",
   "metadata": {},
   "outputs": [
    {
     "data": {
      "text/plain": [
       "<Axes: xlabel='price'>"
      ]
     },
     "execution_count": 25,
     "metadata": {},
     "output_type": "execute_result"
    },
    {
     "data": {
      "image/png": "[encoded data removed]",
      "text/plain": [
       "<Figure size 640x480 with 1 Axes>"
      ]
     },
     "metadata": {},
     "output_type": "display_data"
    }
   ],
   "source": [
    "sns.boxplot(x=new_df['price'],data=new_df)"
   ]
  },
  {
   "cell_type": "code",
   "execution_count": 26,
   "id": "81a6c524",
   "metadata": {},
   "outputs": [
    {
     "data": {
      "text/plain": [
       "Index(['car_ID', 'symboling', 'car_name', 'fuel_type', 'aspiration',\n",
       "       'door_number', 'car_body', 'drive_wheel', 'engine_location',\n",
       "       'wheel_base', 'car_length', 'car_width', 'car_height', 'curb_weight',\n",
       "       'engine_type', 'cylinder_number', 'engine_size', 'fuel_system',\n",
       "       'bore_ratio', 'stroke', 'compression_ratio', 'horsepower', 'peak_rpm',\n",
       "       'city_mpg', 'highway_mpg', 'price'],\n",
       "      dtype='object')"
      ]
     },
     "execution_count": 26,
     "metadata": {},
     "output_type": "execute_result"
    }
   ],
   "source": [
    "new_df.columns.astype(str)"
   ]
  },
  {
   "cell_type": "markdown",
   "id": "930992b2",
   "metadata": {},
   "source": [
    "# Identifying Categorical Columns in the DataFrame"
   ]
  },
  {
   "cell_type": "code",
   "execution_count": 27,
   "id": "5914e546",
   "metadata": {},
   "outputs": [
    {
     "name": "stdout",
     "output_type": "stream",
     "text": [
      "car_name\n",
      "fuel_type\n",
      "aspiration\n",
      "door_number\n",
      "car_body\n",
      "drive_wheel\n",
      "engine_location\n",
      "engine_type\n",
      "cylinder_number\n",
      "fuel_system\n"
     ]
    }
   ],
   "source": [
    "string_columns = df.select_dtypes(include=['object']).columns\n",
    "\n",
    "for col in string_columns:\n",
    "    print(col)"
   ]
  },
  {
   "cell_type": "code",
   "execution_count": 28,
   "id": "52c6e3df",
   "metadata": {},
   "outputs": [],
   "source": [
    "columns = ['car_name', 'fuel_type', 'aspiration', 'door_number', 'car_body',\n",
    "           'drive_wheel', 'engine_location', 'engine_type', 'cylinder_number', 'fuel_system']\n"
   ]
  },
  {
   "cell_type": "markdown",
   "id": "609e17cd",
   "metadata": {},
   "source": [
    "# Label Encoding of Categorical Columns"
   ]
  },
  {
   "cell_type": "code",
   "execution_count": 29,
   "id": "f56b1b10",
   "metadata": {
    "scrolled": true
   },
   "outputs": [
    {
     "data": {
      "text/html": [
       "<div>\n",
       "<style scoped>\n",
       "    .dataframe tbody tr th:only-of-type {\n",
       "        vertical-align: middle;\n",
       "    }\n",
       "\n",
       "    .dataframe tbody tr th {\n",
       "        vertical-align: top;\n",
       "    }\n",
       "\n",
       "    .dataframe thead th {\n",
       "        text-align: right;\n",
       "    }\n",
       "</style>\n",
       "<table border=\"1\" class=\"dataframe\">\n",
       "  <thead>\n",
       "    <tr style=\"text-align: right;\">\n",
       "      <th></th>\n",
       "      <th>car_ID</th>\n",
       "      <th>symboling</th>\n",
       "      <th>car_name</th>\n",
       "      <th>fuel_type</th>\n",
       "      <th>aspiration</th>\n",
       "      <th>door_number</th>\n",
       "      <th>car_body</th>\n",
       "      <th>drive_wheel</th>\n",
       "      <th>engine_location</th>\n",
       "      <th>wheel_base</th>\n",
       "      <th>...</th>\n",
       "      <th>engine_size</th>\n",
       "      <th>fuel_system</th>\n",
       "      <th>bore_ratio</th>\n",
       "      <th>stroke</th>\n",
       "      <th>compression_ratio</th>\n",
       "      <th>horsepower</th>\n",
       "      <th>peak_rpm</th>\n",
       "      <th>city_mpg</th>\n",
       "      <th>highway_mpg</th>\n",
       "      <th>price</th>\n",
       "    </tr>\n",
       "  </thead>\n",
       "  <tbody>\n",
       "    <tr>\n",
       "      <th>0</th>\n",
       "      <td>1</td>\n",
       "      <td>3</td>\n",
       "      <td>2</td>\n",
       "      <td>1</td>\n",
       "      <td>0</td>\n",
       "      <td>1</td>\n",
       "      <td>0</td>\n",
       "      <td>2</td>\n",
       "      <td>0</td>\n",
       "      <td>88.6</td>\n",
       "      <td>...</td>\n",
       "      <td>130</td>\n",
       "      <td>5</td>\n",
       "      <td>3.47</td>\n",
       "      <td>2.68</td>\n",
       "      <td>9.0</td>\n",
       "      <td>111</td>\n",
       "      <td>5000</td>\n",
       "      <td>21</td>\n",
       "      <td>27</td>\n",
       "      <td>13495.0</td>\n",
       "    </tr>\n",
       "    <tr>\n",
       "      <th>1</th>\n",
       "      <td>2</td>\n",
       "      <td>3</td>\n",
       "      <td>3</td>\n",
       "      <td>1</td>\n",
       "      <td>0</td>\n",
       "      <td>1</td>\n",
       "      <td>0</td>\n",
       "      <td>2</td>\n",
       "      <td>0</td>\n",
       "      <td>88.6</td>\n",
       "      <td>...</td>\n",
       "      <td>130</td>\n",
       "      <td>5</td>\n",
       "      <td>3.47</td>\n",
       "      <td>2.68</td>\n",
       "      <td>9.0</td>\n",
       "      <td>111</td>\n",
       "      <td>5000</td>\n",
       "      <td>21</td>\n",
       "      <td>27</td>\n",
       "      <td>16500.0</td>\n",
       "    </tr>\n",
       "    <tr>\n",
       "      <th>2</th>\n",
       "      <td>3</td>\n",
       "      <td>1</td>\n",
       "      <td>1</td>\n",
       "      <td>1</td>\n",
       "      <td>0</td>\n",
       "      <td>1</td>\n",
       "      <td>2</td>\n",
       "      <td>2</td>\n",
       "      <td>0</td>\n",
       "      <td>94.5</td>\n",
       "      <td>...</td>\n",
       "      <td>152</td>\n",
       "      <td>5</td>\n",
       "      <td>2.68</td>\n",
       "      <td>3.47</td>\n",
       "      <td>9.0</td>\n",
       "      <td>154</td>\n",
       "      <td>5000</td>\n",
       "      <td>19</td>\n",
       "      <td>26</td>\n",
       "      <td>16500.0</td>\n",
       "    </tr>\n",
       "    <tr>\n",
       "      <th>3</th>\n",
       "      <td>4</td>\n",
       "      <td>2</td>\n",
       "      <td>4</td>\n",
       "      <td>1</td>\n",
       "      <td>0</td>\n",
       "      <td>0</td>\n",
       "      <td>3</td>\n",
       "      <td>1</td>\n",
       "      <td>0</td>\n",
       "      <td>99.8</td>\n",
       "      <td>...</td>\n",
       "      <td>109</td>\n",
       "      <td>5</td>\n",
       "      <td>3.19</td>\n",
       "      <td>3.40</td>\n",
       "      <td>10.0</td>\n",
       "      <td>102</td>\n",
       "      <td>5500</td>\n",
       "      <td>24</td>\n",
       "      <td>30</td>\n",
       "      <td>13950.0</td>\n",
       "    </tr>\n",
       "    <tr>\n",
       "      <th>4</th>\n",
       "      <td>5</td>\n",
       "      <td>2</td>\n",
       "      <td>5</td>\n",
       "      <td>1</td>\n",
       "      <td>0</td>\n",
       "      <td>0</td>\n",
       "      <td>3</td>\n",
       "      <td>0</td>\n",
       "      <td>0</td>\n",
       "      <td>99.4</td>\n",
       "      <td>...</td>\n",
       "      <td>136</td>\n",
       "      <td>5</td>\n",
       "      <td>3.19</td>\n",
       "      <td>3.40</td>\n",
       "      <td>8.0</td>\n",
       "      <td>115</td>\n",
       "      <td>5500</td>\n",
       "      <td>18</td>\n",
       "      <td>22</td>\n",
       "      <td>17450.0</td>\n",
       "    </tr>\n",
       "  </tbody>\n",
       "</table>\n",
       "<p>5 rows × 26 columns</p>\n",
       "</div>"
      ],
      "text/plain": [
       "   car_ID  symboling  car_name  fuel_type  aspiration  door_number  car_body  \\\n",
       "0       1          3         2          1           0            1         0   \n",
       "1       2          3         3          1           0            1         0   \n",
       "2       3          1         1          1           0            1         2   \n",
       "3       4          2         4          1           0            0         3   \n",
       "4       5          2         5          1           0            0         3   \n",
       "\n",
       "   drive_wheel  engine_location  wheel_base  ...  engine_size  fuel_system  \\\n",
       "0            2                0        88.6  ...          130            5   \n",
       "1            2                0        88.6  ...          130            5   \n",
       "2            2                0        94.5  ...          152            5   \n",
       "3            1                0        99.8  ...          109            5   \n",
       "4            0                0        99.4  ...          136            5   \n",
       "\n",
       "   bore_ratio  stroke  compression_ratio  horsepower  peak_rpm  city_mpg  \\\n",
       "0        3.47    2.68                9.0         111      5000        21   \n",
       "1        3.47    2.68                9.0         111      5000        21   \n",
       "2        2.68    3.47                9.0         154      5000        19   \n",
       "3        3.19    3.40               10.0         102      5500        24   \n",
       "4        3.19    3.40                8.0         115      5500        18   \n",
       "\n",
       "   highway_mpg    price  \n",
       "0           27  13495.0  \n",
       "1           27  16500.0  \n",
       "2           26  16500.0  \n",
       "3           30  13950.0  \n",
       "4           22  17450.0  \n",
       "\n",
       "[5 rows x 26 columns]"
      ]
     },
     "execution_count": 29,
     "metadata": {},
     "output_type": "execute_result"
    }
   ],
   "source": [
    "label_en = LabelEncoder()\n",
    "\n",
    "for column in columns:\n",
    "    new_df[column] = label_en.fit_transform(new_df[column])\n",
    "    \n",
    "new_df.head()"
   ]
  },
  {
   "cell_type": "markdown",
   "id": "3320f437",
   "metadata": {},
   "source": [
    "This code snippet applies label encoding to the specified categorical columns in the DataFrame new_df using the LabelEncoder from scikit-learn. The LabelEncoder converts each unique category in the selected columns into a numerical format, assigning an integer value to each category. The transformed columns replace the original categorical columns in new_df. The result is displayed using the head() method, which shows the first few rows of the modified DataFrame, making it easier to verify the changes and check the encoded values."
   ]
  },
  {
   "cell_type": "code",
   "execution_count": 30,
   "id": "fbf5dd38",
   "metadata": {},
   "outputs": [
    {
     "data": {
      "text/plain": [
       "(200, 26)"
      ]
     },
     "execution_count": 30,
     "metadata": {},
     "output_type": "execute_result"
    }
   ],
   "source": [
    "new_df.shape"
   ]
  },
  {
   "cell_type": "markdown",
   "id": "93b9a5c6",
   "metadata": {},
   "source": [
    "# Defining Features and Target Variable"
   ]
  },
  {
   "cell_type": "code",
   "execution_count": 31,
   "id": "363781a6",
   "metadata": {},
   "outputs": [],
   "source": [
    "x = new_df.drop(columns=['price'])\n",
    "y = new_df['price']"
   ]
  },
  {
   "cell_type": "markdown",
   "id": "4b3f6761",
   "metadata": {},
   "source": [
    "# Splitting the Dataset into Training and Testing Sets"
   ]
  },
  {
   "cell_type": "code",
   "execution_count": 32,
   "id": "6afe5917",
   "metadata": {},
   "outputs": [],
   "source": [
    "x_train,x_test,y_train,y_test=train_test_split(x,y,test_size=0.2,random_state=42)"
   ]
  },
  {
   "cell_type": "markdown",
   "id": "4aa2e141",
   "metadata": {},
   "source": [
    "# Model Initialization for Regression Algorithms"
   ]
  },
  {
   "cell_type": "code",
   "execution_count": 33,
   "id": "d26777ff",
   "metadata": {},
   "outputs": [],
   "source": [
    "models = {\n",
    "    'Linear Regression': LinearRegression(),\n",
    "    'Decision Tree Regressor': DecisionTreeRegressor(),\n",
    "    'Random Forest Regressor': RandomForestRegressor(),\n",
    "    'Gradient Boosting Regressor': GradientBoostingRegressor(),\n",
    "    'Support Vector Regressor': SVR()\n",
    "}"
   ]
  },
  {
   "cell_type": "markdown",
   "id": "4a562545",
   "metadata": {},
   "source": [
    "models is created to initialize five different regression algorithms. Each key in the dictionary corresponds to a model name, while the values are the respective model instances from sklearn"
   ]
  },
  {
   "cell_type": "markdown",
   "id": "803b7403",
   "metadata": {},
   "source": [
    "# Model Performance Evaluation"
   ]
  },
  {
   "cell_type": "code",
   "execution_count": 34,
   "id": "fc8fbcc9",
   "metadata": {},
   "outputs": [
    {
     "name": "stdout",
     "output_type": "stream",
     "text": [
      "                         Model  R-squared           MSE          MAE\n",
      "0            Linear Regression   0.883278  1.023477e+07  2267.107775\n",
      "1      Decision Tree Regressor   0.907797  8.084797e+06  1966.779175\n",
      "2      Random Forest Regressor   0.851393  1.303065e+07  2229.781825\n",
      "3  Gradient Boosting Regressor   0.918129  7.178890e+06  1778.220701\n",
      "4     Support Vector Regressor  -0.169817  1.025755e+08  6506.087393\n"
     ]
    }
   ],
   "source": [
    "performance = pd.DataFrame(columns=['Model', 'R-squared', 'MSE', 'MAE'])\n",
    "\n",
    "for model_name,model in models.items():\n",
    "    model.fit(x_train,y_train)\n",
    "    \n",
    "    y_pred = model.predict(x_test)\n",
    "    r2 = r2_score(y_test,y_pred)\n",
    "    mse = mean_squared_error(y_test,y_pred)\n",
    "    mae = mean_absolute_error(y_test,y_pred)\n",
    "    \n",
    "    new_row = pd.DataFrame({\n",
    "        'Model': [model_name],\n",
    "        'R-squared': [r2],\n",
    "        'MSE': [mse],\n",
    "        'MAE': [mae]\n",
    "    })\n",
    "    \n",
    "    performance = pd.concat([performance,new_row],ignore_index=True)\n",
    "    \n",
    "print(performance)"
   ]
  },
  {
   "cell_type": "markdown",
   "id": "6bd773c7",
   "metadata": {},
   "source": [
    "This code evaluates the performance of various regression models on the test dataset. It initializes a DataFrame named performance to store the results of each model's performance metrics, including R-squared, Mean Squared Error (MSE), and Mean Absolute Error (MAE)."
   ]
  },
  {
   "cell_type": "markdown",
   "id": "eb1b5a3d",
   "metadata": {},
   "source": [
    "# Identifying the Best Performing Model"
   ]
  },
  {
   "cell_type": "code",
   "execution_count": 35,
   "id": "1ecfb4c0",
   "metadata": {
    "scrolled": true
   },
   "outputs": [
    {
     "name": "stdout",
     "output_type": "stream",
     "text": [
      "Best model based on R-squared: Model        Gradient Boosting Regressor\n",
      "R-squared                       0.918129\n",
      "MSE                       7178890.243182\n",
      "MAE                          1778.220701\n",
      "Name: 3, dtype: object\n",
      "Best model based on MSE: Model        Gradient Boosting Regressor\n",
      "R-squared                       0.918129\n",
      "MSE                       7178890.243182\n",
      "MAE                          1778.220701\n",
      "Name: 3, dtype: object\n",
      "Best model based on MAE: Model        Gradient Boosting Regressor\n",
      "R-squared                       0.918129\n",
      "MSE                       7178890.243182\n",
      "MAE                          1778.220701\n",
      "Name: 3, dtype: object\n"
     ]
    }
   ],
   "source": [
    "best_r2_model = performance.loc[performance['R-squared'].idxmax()]\n",
    "best_mse_model = performance.loc[performance['MSE'].idxmin()]\n",
    "best_mae_model = performance.loc[performance['MAE'].idxmin()]\n",
    "\n",
    "print(\"Best model based on R-squared:\", best_r2_model)\n",
    "print(\"Best model based on MSE:\", best_mse_model)\n",
    "print(\"Best model based on MAE:\", best_mae_model)"
   ]
  },
  {
   "cell_type": "markdown",
   "id": "20a2a513",
   "metadata": {},
   "source": [
    "The evaluation of the regression models reveals that the Gradient Boosting Regressor is the best-performing model across all metrics, including R-squared, Mean Squared Error (MSE), and Mean Absolute Error (MAE). With an R-squared value of 0.918129, the model explains approximately 91.81% of the variance in car prices, indicating its strong predictive capability. Additionally, it has the lowest MSE of 7178890.243182, which reflects the average squared difference between predicted and actual prices, and an MAE of 1778.220701, representing the average absolute difference between predicted and actual values. These results suggest that the Gradient Boosting Regressor is the most reliable model for accurately estimating car prices in this dataset, outperforming the other regression algorithms considered."
   ]
  },
  {
   "cell_type": "markdown",
   "id": "8874267a",
   "metadata": {},
   "source": [
    "# Gradient Boosting Regressor Feature Importance"
   ]
  },
  {
   "cell_type": "code",
   "execution_count": 42,
   "id": "1e8fad68",
   "metadata": {
    "scrolled": false
   },
   "outputs": [
    {
     "data": {
      "image/png": "[encoded data removed]",
      "text/plain": [
       "<Figure size 1000x800 with 1 Axes>"
      ]
     },
     "metadata": {},
     "output_type": "display_data"
    }
   ],
   "source": [
    "gbr_model = GradientBoostingRegressor()\n",
    "gbr_model.fit(x_train, y_train)\n",
    "\n",
    "feature_importance = pd.Series(gbr_model.feature_importances_, index=x_train.columns)\n",
    "\n",
    "plt.figure(figsize=(10, 8))\n",
    "feature_importance.sort_values(ascending=False).plot(kind='bar')\n",
    "plt.title('Feature Importance from Gradient Boosting Regressor')"
   ]
  },
  {
   "cell_type": "markdown",
   "id": "244d4586",
   "metadata": {},
   "source": [
    "In the feature selection analysis, curb weight, engine size, and horsepower were identified as the most significant variables affecting car prices. Curb weight, which measures the weight of the vehicle without any cargo or passengers, often indicates a more robust build, enhancing safety and stability, which can appeal to consumers and drive up prices. Engine size, typically measured in liters, is associated with better performance and power; larger engines often attract buyers seeking enhanced driving experiences. Horsepower, reflecting the engine's power output, also plays a crucial role, as higher horsepower values are linked to improved performance capabilities, such as faster speeds and greater towing capacity. Together, these features significantly influence the perceived quality and desirability of vehicles, making them valuable predictors of car prices in the automotive market."
   ]
  },
  {
   "cell_type": "markdown",
   "id": "748fd876",
   "metadata": {},
   "source": [
    "# Hyperparameter Grid for Gradient Boosting Regressor"
   ]
  },
  {
   "cell_type": "code",
   "execution_count": 37,
   "id": "3063abf2",
   "metadata": {},
   "outputs": [],
   "source": [
    "param_grid = {\n",
    "    'n_estimators': [50, 100, 200],\n",
    "    'learning_rate': [0.01, 0.05, 0.1],\n",
    "    'max_depth': [3, 5, 7],\n",
    "    'min_samples_split': [2, 5, 10],\n",
    "    'min_samples_leaf': [1, 2, 4],\n",
    "    'subsample': [0.8, 1.0]\n",
    "}"
   ]
  },
  {
   "cell_type": "markdown",
   "id": "2c896c1e",
   "metadata": {},
   "source": [
    "# Hyperparameter Tuning for Gradient Boosting Regressor Using Grid Search "
   ]
  },
  {
   "cell_type": "code",
   "execution_count": 40,
   "id": "75b00224",
   "metadata": {},
   "outputs": [
    {
     "name": "stdout",
     "output_type": "stream",
     "text": [
      "Fitting 5 folds for each of 486 candidates, totalling 2430 fits\n",
      "Mean Squared Error:  8264751.21081146\n",
      "R-squared:  0.9057450748070329\n"
     ]
    }
   ],
   "source": [
    "Gradient = GradientBoostingRegressor()\n",
    "\n",
    "grid_search = GridSearchCV(estimator=Gradient, param_grid=param_grid,\n",
    "                           scoring='neg_mean_squared_error', \n",
    "                           cv=5, n_jobs=-1, verbose=2)\n",
    "\n",
    "grid_search.fit(x_train,y_train)\n",
    "\n",
    "best_param = grid_search.best_params_\n",
    "\n",
    "best_model = grid_search.best_estimator_\n",
    "y_pred = best_model.predict(x_test)\n",
    "\n",
    "# Print performance metrics\n",
    "print(\"Mean Squared Error: \", mean_squared_error(y_test, y_pred))\n",
    "print(\"R-squared: \", r2_score(y_test, y_pred))"
   ]
  },
  {
   "cell_type": "markdown",
   "id": "1cce2b5b",
   "metadata": {},
   "source": [
    "After hyperparameter tuning, the MSE increased to 8,264,751.21081146, and the R-squared decreased to 0.905745. So, the tuning negatively affected the model's performance compared to before."
   ]
  },
  {
   "cell_type": "code",
   "execution_count": null,
   "id": "415a3552",
   "metadata": {},
   "outputs": [],
   "source": []
  }
 ],
 "metadata": {
  "kernelspec": {
   "display_name": "Python 3 (ipykernel)",
   "language": "python",
   "name": "python3"
  },
  "language_info": {
   "codemirror_mode": {
    "name": "ipython",
    "version": 3
   },
   "file_extension": ".py",
   "mimetype": "text/x-python",
   "name": "python",
   "nbconvert_exporter": "python",
   "pygments_lexer": "ipython3",
   "version": "3.11.5"
  }
 },
 "nbformat": 4,
 "nbformat_minor": 5
}
